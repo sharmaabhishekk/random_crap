{
 "cells": [
  {
   "cell_type": "code",
   "execution_count": 31,
   "metadata": {},
   "outputs": [],
   "source": [
    "import pandas as pd\n",
    "import numpy as np\n",
    "import json\n",
    "import matplotlib.pyplot as plt"
   ]
  },
  {
   "cell_type": "markdown",
   "metadata": {},
   "source": [
    "Download `expected_threat.json` from [here](https://github.com/sharmaabhishekk/random_stuff/blob/master/expected_threat.json) or `epv_data.csv` from [here](https://github.com/Friends-of-Tracking-Data-FoTD/LaurieOnTracking/blob/master/EPV_grid.csv). Change the `TYPE` variable to use whichever out of the two you want"
   ]
  },
  {
   "cell_type": "code",
   "execution_count": 32,
   "metadata": {},
   "outputs": [],
   "source": [
    "TYPE = \"EPV\" ##xT/EPV\n",
    "if TYPE == \"xT\":    \n",
    "    with open(\"expected_threat.json\", \"r\") as f:\n",
    "        xtd = json.load(f) \n",
    "    xtd = np.array(xtd)\n",
    "elif TYPE == \"EPV\":\n",
    "    xtd = pd.read_csv(\"epv_data.csv\").to_numpy()\n",
    "    "
   ]
  },
  {
   "cell_type": "code",
   "execution_count": 33,
   "metadata": {},
   "outputs": [
    {
     "name": "stdout",
     "output_type": "stream",
     "text": [
      "32 50\n"
     ]
    }
   ],
   "source": [
    "n_rows, n_cols = xtd.shape\n",
    "print(n_rows, n_cols)"
   ]
  },
  {
   "cell_type": "code",
   "execution_count": 34,
   "metadata": {},
   "outputs": [
    {
     "data": {
      "image/png": "[encoded data removed]",
      "text/plain": [
       "<Figure size 432x288 with 1 Axes>"
      ]
     },
     "metadata": {
      "needs_background": "light"
     },
     "output_type": "display_data"
    }
   ],
   "source": [
    "plt.imshow(xtd, cmap=\"inferno\");"
   ]
  },
  {
   "cell_type": "markdown",
   "metadata": {},
   "source": [
    "### Generate fake passing data"
   ]
  },
  {
   "cell_type": "code",
   "execution_count": 35,
   "metadata": {},
   "outputs": [
    {
     "data": {
      "text/html": [
       "<div>\n",
       "<style scoped>\n",
       "    .dataframe tbody tr th:only-of-type {\n",
       "        vertical-align: middle;\n",
       "    }\n",
       "\n",
       "    .dataframe tbody tr th {\n",
       "        vertical-align: top;\n",
       "    }\n",
       "\n",
       "    .dataframe thead th {\n",
       "        text-align: right;\n",
       "    }\n",
       "</style>\n",
       "<table border=\"1\" class=\"dataframe\">\n",
       "  <thead>\n",
       "    <tr style=\"text-align: right;\">\n",
       "      <th></th>\n",
       "      <th>x1</th>\n",
       "      <th>x2</th>\n",
       "      <th>y1</th>\n",
       "      <th>y2</th>\n",
       "    </tr>\n",
       "  </thead>\n",
       "  <tbody>\n",
       "    <tr>\n",
       "      <th>0</th>\n",
       "      <td>37.454012</td>\n",
       "      <td>95.071431</td>\n",
       "      <td>73.199394</td>\n",
       "      <td>59.865848</td>\n",
       "    </tr>\n",
       "    <tr>\n",
       "      <th>1</th>\n",
       "      <td>15.601864</td>\n",
       "      <td>15.599452</td>\n",
       "      <td>5.808361</td>\n",
       "      <td>86.617615</td>\n",
       "    </tr>\n",
       "    <tr>\n",
       "      <th>2</th>\n",
       "      <td>60.111501</td>\n",
       "      <td>70.807258</td>\n",
       "      <td>2.058449</td>\n",
       "      <td>96.990985</td>\n",
       "    </tr>\n",
       "    <tr>\n",
       "      <th>3</th>\n",
       "      <td>83.244264</td>\n",
       "      <td>21.233911</td>\n",
       "      <td>18.182497</td>\n",
       "      <td>18.340451</td>\n",
       "    </tr>\n",
       "    <tr>\n",
       "      <th>4</th>\n",
       "      <td>30.424224</td>\n",
       "      <td>52.475643</td>\n",
       "      <td>43.194502</td>\n",
       "      <td>29.122914</td>\n",
       "    </tr>\n",
       "  </tbody>\n",
       "</table>\n",
       "</div>"
      ],
      "text/plain": [
       "          x1         x2         y1         y2\n",
       "0  37.454012  95.071431  73.199394  59.865848\n",
       "1  15.601864  15.599452   5.808361  86.617615\n",
       "2  60.111501  70.807258   2.058449  96.990985\n",
       "3  83.244264  21.233911  18.182497  18.340451\n",
       "4  30.424224  52.475643  43.194502  29.122914"
      ]
     },
     "execution_count": 35,
     "metadata": {},
     "output_type": "execute_result"
    }
   ],
   "source": [
    "np.random.seed(42)\n",
    "\n",
    "pass_df = pd.DataFrame(np.random.random((100, 4))*100, columns=['x1', 'x2', 'y1', 'y2']) ## our fake pass data coordinates\n",
    "pass_df.head()"
   ]
  },
  {
   "cell_type": "code",
   "execution_count": 36,
   "metadata": {},
   "outputs": [],
   "source": [
    "### Bin the data according to the shape of the loaded xt array\n",
    "###assuming 100 is the upper maximum limit\n",
    "pass_df['x1_bin'] = pass_df.x1.apply(lambda val: int(val/(100/n_cols)) if val != 100 else int(val/(100/n_cols)) - 1 )\n",
    "pass_df['x2_bin'] = pass_df.x2.apply(lambda val: int(val/(100/n_cols)) if val != 100 else int(val/(100/n_cols)) - 1 )\n",
    "\n",
    "pass_df['y1_bin'] = pass_df.y1.apply(lambda val: int(val/(100/n_rows)) if val != 100 else int(val/(100/n_rows)) - 1 )\n",
    "pass_df['y2_bin'] = pass_df.y2.apply(lambda val: int(val/(100/n_rows)) if val != 100 else int(val/(100/n_rows)) - 1 )"
   ]
  },
  {
   "cell_type": "code",
   "execution_count": 37,
   "metadata": {},
   "outputs": [
    {
     "data": {
      "text/html": [
       "<div>\n",
       "<style scoped>\n",
       "    .dataframe tbody tr th:only-of-type {\n",
       "        vertical-align: middle;\n",
       "    }\n",
       "\n",
       "    .dataframe tbody tr th {\n",
       "        vertical-align: top;\n",
       "    }\n",
       "\n",
       "    .dataframe thead th {\n",
       "        text-align: right;\n",
       "    }\n",
       "</style>\n",
       "<table border=\"1\" class=\"dataframe\">\n",
       "  <thead>\n",
       "    <tr style=\"text-align: right;\">\n",
       "      <th></th>\n",
       "      <th>x1</th>\n",
       "      <th>x2</th>\n",
       "      <th>y1</th>\n",
       "      <th>y2</th>\n",
       "      <th>x1_bin</th>\n",
       "      <th>x2_bin</th>\n",
       "      <th>y1_bin</th>\n",
       "      <th>y2_bin</th>\n",
       "    </tr>\n",
       "  </thead>\n",
       "  <tbody>\n",
       "    <tr>\n",
       "      <th>0</th>\n",
       "      <td>37.454012</td>\n",
       "      <td>95.071431</td>\n",
       "      <td>73.199394</td>\n",
       "      <td>59.865848</td>\n",
       "      <td>18</td>\n",
       "      <td>47</td>\n",
       "      <td>23</td>\n",
       "      <td>19</td>\n",
       "    </tr>\n",
       "    <tr>\n",
       "      <th>1</th>\n",
       "      <td>15.601864</td>\n",
       "      <td>15.599452</td>\n",
       "      <td>5.808361</td>\n",
       "      <td>86.617615</td>\n",
       "      <td>7</td>\n",
       "      <td>7</td>\n",
       "      <td>1</td>\n",
       "      <td>27</td>\n",
       "    </tr>\n",
       "    <tr>\n",
       "      <th>2</th>\n",
       "      <td>60.111501</td>\n",
       "      <td>70.807258</td>\n",
       "      <td>2.058449</td>\n",
       "      <td>96.990985</td>\n",
       "      <td>30</td>\n",
       "      <td>35</td>\n",
       "      <td>0</td>\n",
       "      <td>31</td>\n",
       "    </tr>\n",
       "    <tr>\n",
       "      <th>3</th>\n",
       "      <td>83.244264</td>\n",
       "      <td>21.233911</td>\n",
       "      <td>18.182497</td>\n",
       "      <td>18.340451</td>\n",
       "      <td>41</td>\n",
       "      <td>10</td>\n",
       "      <td>5</td>\n",
       "      <td>5</td>\n",
       "    </tr>\n",
       "    <tr>\n",
       "      <th>4</th>\n",
       "      <td>30.424224</td>\n",
       "      <td>52.475643</td>\n",
       "      <td>43.194502</td>\n",
       "      <td>29.122914</td>\n",
       "      <td>15</td>\n",
       "      <td>26</td>\n",
       "      <td>13</td>\n",
       "      <td>9</td>\n",
       "    </tr>\n",
       "  </tbody>\n",
       "</table>\n",
       "</div>"
      ],
      "text/plain": [
       "          x1         x2         y1         y2  x1_bin  x2_bin  y1_bin  y2_bin\n",
       "0  37.454012  95.071431  73.199394  59.865848      18      47      23      19\n",
       "1  15.601864  15.599452   5.808361  86.617615       7       7       1      27\n",
       "2  60.111501  70.807258   2.058449  96.990985      30      35       0      31\n",
       "3  83.244264  21.233911  18.182497  18.340451      41      10       5       5\n",
       "4  30.424224  52.475643  43.194502  29.122914      15      26      13       9"
      ]
     },
     "execution_count": 37,
     "metadata": {},
     "output_type": "execute_result"
    }
   ],
   "source": [
    "pass_df.head()"
   ]
  },
  {
   "cell_type": "code",
   "execution_count": 38,
   "metadata": {},
   "outputs": [
    {
     "name": "stdout",
     "output_type": "stream",
     "text": [
      "Wall time: 0 ns\n"
     ]
    }
   ],
   "source": [
    "### Now we just loop over every row and get correspoding xt value for the pass's start and end bins\n",
    "%time\n",
    "pass_df['start_zone_value'] = pass_df[['x1_bin', 'y1_bin']].apply(lambda x: xtd[x[1]][x[0]], axis=1)\n",
    "pass_df['end_zone_value'] = pass_df[['x2_bin', 'y2_bin']].apply(lambda x: xtd[x[1]][x[0]], axis=1)\n"
   ]
  },
  {
   "cell_type": "code",
   "execution_count": 39,
   "metadata": {},
   "outputs": [
    {
     "data": {
      "text/html": [
       "<div>\n",
       "<style scoped>\n",
       "    .dataframe tbody tr th:only-of-type {\n",
       "        vertical-align: middle;\n",
       "    }\n",
       "\n",
       "    .dataframe tbody tr th {\n",
       "        vertical-align: top;\n",
       "    }\n",
       "\n",
       "    .dataframe thead th {\n",
       "        text-align: right;\n",
       "    }\n",
       "</style>\n",
       "<table border=\"1\" class=\"dataframe\">\n",
       "  <thead>\n",
       "    <tr style=\"text-align: right;\">\n",
       "      <th></th>\n",
       "      <th>x1</th>\n",
       "      <th>x2</th>\n",
       "      <th>y1</th>\n",
       "      <th>y2</th>\n",
       "      <th>x1_bin</th>\n",
       "      <th>x2_bin</th>\n",
       "      <th>y1_bin</th>\n",
       "      <th>y2_bin</th>\n",
       "      <th>start_zone_value</th>\n",
       "      <th>end_zone_value</th>\n",
       "    </tr>\n",
       "  </thead>\n",
       "  <tbody>\n",
       "    <tr>\n",
       "      <th>0</th>\n",
       "      <td>37.454012</td>\n",
       "      <td>95.071431</td>\n",
       "      <td>73.199394</td>\n",
       "      <td>59.865848</td>\n",
       "      <td>18</td>\n",
       "      <td>47</td>\n",
       "      <td>23</td>\n",
       "      <td>19</td>\n",
       "      <td>0.0107</td>\n",
       "      <td>0.1347</td>\n",
       "    </tr>\n",
       "    <tr>\n",
       "      <th>1</th>\n",
       "      <td>15.601864</td>\n",
       "      <td>15.599452</td>\n",
       "      <td>5.808361</td>\n",
       "      <td>86.617615</td>\n",
       "      <td>7</td>\n",
       "      <td>7</td>\n",
       "      <td>1</td>\n",
       "      <td>27</td>\n",
       "      <td>0.0058</td>\n",
       "      <td>0.0064</td>\n",
       "    </tr>\n",
       "    <tr>\n",
       "      <th>2</th>\n",
       "      <td>60.111501</td>\n",
       "      <td>70.807258</td>\n",
       "      <td>2.058449</td>\n",
       "      <td>96.990985</td>\n",
       "      <td>30</td>\n",
       "      <td>35</td>\n",
       "      <td>0</td>\n",
       "      <td>31</td>\n",
       "      <td>0.0150</td>\n",
       "      <td>0.0208</td>\n",
       "    </tr>\n",
       "    <tr>\n",
       "      <th>3</th>\n",
       "      <td>83.244264</td>\n",
       "      <td>21.233911</td>\n",
       "      <td>18.182497</td>\n",
       "      <td>18.340451</td>\n",
       "      <td>41</td>\n",
       "      <td>10</td>\n",
       "      <td>5</td>\n",
       "      <td>5</td>\n",
       "      <td>0.0323</td>\n",
       "      <td>0.0072</td>\n",
       "    </tr>\n",
       "    <tr>\n",
       "      <th>4</th>\n",
       "      <td>30.424224</td>\n",
       "      <td>52.475643</td>\n",
       "      <td>43.194502</td>\n",
       "      <td>29.122914</td>\n",
       "      <td>15</td>\n",
       "      <td>26</td>\n",
       "      <td>13</td>\n",
       "      <td>9</td>\n",
       "      <td>0.0103</td>\n",
       "      <td>0.0152</td>\n",
       "    </tr>\n",
       "  </tbody>\n",
       "</table>\n",
       "</div>"
      ],
      "text/plain": [
       "          x1         x2         y1         y2  x1_bin  x2_bin  y1_bin  y2_bin  \\\n",
       "0  37.454012  95.071431  73.199394  59.865848      18      47      23      19   \n",
       "1  15.601864  15.599452   5.808361  86.617615       7       7       1      27   \n",
       "2  60.111501  70.807258   2.058449  96.990985      30      35       0      31   \n",
       "3  83.244264  21.233911  18.182497  18.340451      41      10       5       5   \n",
       "4  30.424224  52.475643  43.194502  29.122914      15      26      13       9   \n",
       "\n",
       "   start_zone_value  end_zone_value  \n",
       "0            0.0107          0.1347  \n",
       "1            0.0058          0.0064  \n",
       "2            0.0150          0.0208  \n",
       "3            0.0323          0.0072  \n",
       "4            0.0103          0.0152  "
      ]
     },
     "execution_count": 39,
     "metadata": {},
     "output_type": "execute_result"
    }
   ],
   "source": [
    "pass_df.head()"
   ]
  },
  {
   "cell_type": "code",
   "execution_count": 40,
   "metadata": {},
   "outputs": [],
   "source": [
    "pass_df['pass_xt_value'] = pass_df['end_zone_value'] - pass_df['start_zone_value'] ##value of any pass is just value at end_zone - value at start_zone\n",
    "pass_df = pass_df[[col for col in pass_df.columns if 'bin' not in col]] ##remove the bins/indices since they're useless now"
   ]
  },
  {
   "cell_type": "code",
   "execution_count": 41,
   "metadata": {},
   "outputs": [
    {
     "data": {
      "text/html": [
       "<div>\n",
       "<style scoped>\n",
       "    .dataframe tbody tr th:only-of-type {\n",
       "        vertical-align: middle;\n",
       "    }\n",
       "\n",
       "    .dataframe tbody tr th {\n",
       "        vertical-align: top;\n",
       "    }\n",
       "\n",
       "    .dataframe thead th {\n",
       "        text-align: right;\n",
       "    }\n",
       "</style>\n",
       "<table border=\"1\" class=\"dataframe\">\n",
       "  <thead>\n",
       "    <tr style=\"text-align: right;\">\n",
       "      <th></th>\n",
       "      <th>x1</th>\n",
       "      <th>x2</th>\n",
       "      <th>y1</th>\n",
       "      <th>y2</th>\n",
       "      <th>start_zone_value</th>\n",
       "      <th>end_zone_value</th>\n",
       "      <th>pass_xt_value</th>\n",
       "    </tr>\n",
       "  </thead>\n",
       "  <tbody>\n",
       "    <tr>\n",
       "      <th>0</th>\n",
       "      <td>37.454012</td>\n",
       "      <td>95.071431</td>\n",
       "      <td>73.199394</td>\n",
       "      <td>59.865848</td>\n",
       "      <td>0.0107</td>\n",
       "      <td>0.1347</td>\n",
       "      <td>0.1240</td>\n",
       "    </tr>\n",
       "    <tr>\n",
       "      <th>1</th>\n",
       "      <td>15.601864</td>\n",
       "      <td>15.599452</td>\n",
       "      <td>5.808361</td>\n",
       "      <td>86.617615</td>\n",
       "      <td>0.0058</td>\n",
       "      <td>0.0064</td>\n",
       "      <td>0.0006</td>\n",
       "    </tr>\n",
       "    <tr>\n",
       "      <th>2</th>\n",
       "      <td>60.111501</td>\n",
       "      <td>70.807258</td>\n",
       "      <td>2.058449</td>\n",
       "      <td>96.990985</td>\n",
       "      <td>0.0150</td>\n",
       "      <td>0.0208</td>\n",
       "      <td>0.0058</td>\n",
       "    </tr>\n",
       "    <tr>\n",
       "      <th>3</th>\n",
       "      <td>83.244264</td>\n",
       "      <td>21.233911</td>\n",
       "      <td>18.182497</td>\n",
       "      <td>18.340451</td>\n",
       "      <td>0.0323</td>\n",
       "      <td>0.0072</td>\n",
       "      <td>-0.0251</td>\n",
       "    </tr>\n",
       "    <tr>\n",
       "      <th>4</th>\n",
       "      <td>30.424224</td>\n",
       "      <td>52.475643</td>\n",
       "      <td>43.194502</td>\n",
       "      <td>29.122914</td>\n",
       "      <td>0.0103</td>\n",
       "      <td>0.0152</td>\n",
       "      <td>0.0049</td>\n",
       "    </tr>\n",
       "  </tbody>\n",
       "</table>\n",
       "</div>"
      ],
      "text/plain": [
       "          x1         x2         y1         y2  start_zone_value  \\\n",
       "0  37.454012  95.071431  73.199394  59.865848            0.0107   \n",
       "1  15.601864  15.599452   5.808361  86.617615            0.0058   \n",
       "2  60.111501  70.807258   2.058449  96.990985            0.0150   \n",
       "3  83.244264  21.233911  18.182497  18.340451            0.0323   \n",
       "4  30.424224  52.475643  43.194502  29.122914            0.0103   \n",
       "\n",
       "   end_zone_value  pass_xt_value  \n",
       "0          0.1347         0.1240  \n",
       "1          0.0064         0.0006  \n",
       "2          0.0208         0.0058  \n",
       "3          0.0072        -0.0251  \n",
       "4          0.0152         0.0049  "
      ]
     },
     "execution_count": 41,
     "metadata": {},
     "output_type": "execute_result"
    }
   ],
   "source": [
    "pass_df.head()"
   ]
  },
  {
   "cell_type": "markdown",
   "metadata": {},
   "source": [
    "There you have it, xT value for every pass in your dataset. Have fun!"
   ]
  }
 ],
 "metadata": {
  "kernelspec": {
   "display_name": "Python 3",
   "language": "python",
   "name": "python3"
  },
  "language_info": {
   "codemirror_mode": {
    "name": "ipython",
    "version": 3
   },
   "file_extension": ".py",
   "mimetype": "text/x-python",
   "name": "python",
   "nbconvert_exporter": "python",
   "pygments_lexer": "ipython3",
   "version": "3.8.3"
  }
 },
 "nbformat": 4,
 "nbformat_minor": 4
}
