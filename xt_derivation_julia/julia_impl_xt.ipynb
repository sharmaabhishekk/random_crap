{
 "cells": [
  {
   "cell_type": "code",
   "execution_count": null,
   "metadata": {},
   "outputs": [],
   "source": [
    "w = 12\n",
    "l = 16\n",
    "xts = Any[];"
   ]
  },
  {
   "cell_type": "markdown",
   "metadata": {},
   "source": [
    "### Expected Threat Function"
   ]
  },
  {
   "cell_type": "code",
   "execution_count": null,
   "metadata": {},
   "outputs": [],
   "source": [
    "function expected_threat(p_scoring, p_shot, p_move, transition_matrix)\n",
    "    \n",
    "    \"\"\"Solves the expected threat equation with dynamic programming.\n",
    "\n",
    "    Parameters\n",
    "    ----------\n",
    "    p_scoring : (np.ndarray, shape(M, N)):\n",
    "        Probability of scoring at each grid cell, when shooting from that cell.\n",
    "    p_shot : (np.ndarray, shape(M,N)):\n",
    "        For each grid cell, the probability of choosing to shoot from there.\n",
    "    p_move : (np.ndarray, shape(M,N)):\n",
    "        For each grid cell, the probability of choosing to move from there.\n",
    "    transition_matrix : (np.ndarray, shape(M*N,M*N)):\n",
    "        When moving, the probability of moving to each of the other zones.\n",
    "    \"\"\"\n",
    "    \n",
    "    xT = zeros(w, l)\n",
    "    eps = 1e-5\n",
    "    gs = p_scoring .* p_shot\n",
    "    it = 0\n",
    "    diff = 1 \n",
    "\n",
    "    while length(findall(diff-> diff .> eps, diff)) > 0 ###\n",
    "        total_payoff = zeros(w, l)\n",
    "\n",
    "        for y in 0:w-1\n",
    "            for x in 0:l-1\n",
    "                ##for each zone, calculate the probability of moving to all other zones times the xT at those zones\n",
    "                for q in 0:w-1\n",
    "                    for z in 0:l-1\n",
    "                        total_payoff[y+1, x+1] += transition_matrix[(l*y + x)+1, (l*q + z)+1] * xT[q+1, z+1]\n",
    "                    end\n",
    "                end\n",
    "            end\n",
    "        end\n",
    "        \n",
    "        push!(xts, xT)\n",
    "        newxT = gs + (p_move .* total_payoff)\n",
    "        diff = newxT - xT\n",
    "        xT = newxT\n",
    "        it+=1\n",
    "        \n",
    "    end\n",
    "    println(\"Total iterations to convergence: \", it)\n",
    "    return xT\n",
    "end"
   ]
  },
  {
   "cell_type": "markdown",
   "metadata": {},
   "source": [
    "### Getting the matrices"
   ]
  },
  {
   "cell_type": "code",
   "execution_count": null,
   "metadata": {},
   "outputs": [],
   "source": [
    "using Plots\n",
    "using DataFrames\n",
    "using CSV\n",
    "using StatsBase\n",
    "\n",
    "df = DataFrame(CSV.File(\"xt_pre_data.csv\"));"
   ]
  },
  {
   "cell_type": "code",
   "execution_count": null,
   "metadata": {},
   "outputs": [],
   "source": [
    "df[1:6, [:team_id, :player_name, :start_x, :start_y, :end_x, :end_y, :type_name, :result_name]]"
   ]
  },
  {
   "cell_type": "code",
   "execution_count": null,
   "metadata": {},
   "outputs": [],
   "source": [
    "names(df)"
   ]
  },
  {
   "cell_type": "code",
   "execution_count": null,
   "metadata": {},
   "outputs": [],
   "source": [
    "function get_bins(values, n_bins, max_lim)\n",
    "    idx = Int8.(values.÷(max_lim/n_bins) .+ 1)\n",
    "    idx[findall(idx -> idx>n_bins, idx)] .= n_bins\n",
    "    idx\n",
    "end"
   ]
  },
  {
   "cell_type": "code",
   "execution_count": null,
   "metadata": {},
   "outputs": [],
   "source": [
    "function get_matrix(df)\n",
    "    df[!, :start_x_bin] = get_bins(df[!, :start_x], l, 105)\n",
    "    df[!, :start_y_bin] = get_bins(df[!, :start_y], w, 68)\n",
    "    \n",
    "    gdf = combine(groupby(df, [:start_x_bin, :start_y_bin]), nrow => :count);\n",
    "    \n",
    "    matrix = zeros(w, l)\n",
    "    for a in eachrow(gdf)\n",
    "        matrix[a.start_y_bin, a.start_x_bin] = a.count\n",
    "    end\n",
    "    matrix\n",
    "end"
   ]
  },
  {
   "cell_type": "code",
   "execution_count": null,
   "metadata": {},
   "outputs": [],
   "source": [
    "c_shot_matrix = get_matrix(df[df[\"type_name\"] .== \"shot\", :])\n",
    "c_goal_matrix = get_matrix(df[(df[\"type_name\"] .== \"shot\") .& (df[\"result_name\"] .== \"success\"), :])\n",
    "c_move_matrix = get_matrix(df[in.(df[\"type_name\"], Ref([\"dribble\", \"pass\", \"cross\"])), :])\n",
    "\n",
    "c_total_matrix = c_move_matrix + c_shot_matrix\n",
    "c_move_matrix = c_move_matrix ./ c_total_matrix\n",
    "c_score_matrix = c_goal_matrix ./ c_shot_matrix; replace!(c_score_matrix, NaN=>0)\n",
    "c_shot_matrix = c_shot_matrix ./ c_total_matrix;\n",
    "\n",
    "c_move_matrix = reverse(c_move_matrix, dims=1)\n",
    "c_score_matrix = reverse(c_score_matrix, dims=1)\n",
    "c_shot_matrix = reverse(c_shot_matrix, dims=1);"
   ]
  },
  {
   "cell_type": "markdown",
   "metadata": {
    "tags": []
   },
   "source": [
    "### Transition Matrix"
   ]
  },
  {
   "cell_type": "code",
   "execution_count": null,
   "metadata": {},
   "outputs": [],
   "source": [
    "df[!, :start_x_bin] = get_bins(df[!, :start_x], l, 105)\n",
    "df[!, :start_y_bin] = get_bins(df[!, :start_y], w, 68)\n",
    "\n",
    "df[!, :end_x_bin] = get_bins(df[!, :end_x], l, 105)\n",
    "df[!, :end_y_bin] = get_bins(df[!, :end_y], w, 68);"
   ]
  },
  {
   "cell_type": "code",
   "execution_count": null,
   "metadata": {},
   "outputs": [],
   "source": [
    "get_flat_idx(xs, ys, l) = Int16.(((l .* ys) .+ xs) .- l)\n",
    "\n",
    "function get_transition_matrix(df)\n",
    "    \"\"\"Calculate the transition_matrix\n",
    "    #Arguments: \n",
    "      The dataframe of move_actions\n",
    "    #Returns:\n",
    "      transition_matrix (shape=(w*l, w*l))   \n",
    "    \"\"\"\n",
    "\ttrans_matrix = zeros(w*l, w*l)\n",
    "\tfor i in 1:w*l\n",
    "\t    vc2 = countmap(df[(df[\"start_flat_idx\"] .== i) , :][\"end_flat_idx\"])\n",
    "\t    for (key, value) in vc2\n",
    "\t        trans_matrix[i, key] = value/vals[i]\n",
    "\t    end\n",
    "\tend\n",
    "\ttrans_matrix\n",
    "end\n",
    "\n",
    "df[!, \"start_flat_idx\"] = get_flat_idx(df[\"start_x_bin\"], df[\"start_y_bin\"], l)\n",
    "df[!, \"end_flat_idx\"] = get_flat_idx(df[\"end_x_bin\"], df[\"end_y_bin\"], l)\n",
    "\n",
    "vals = get_matrix(df[in.(df[\"type_name\"], Ref([\"dribble\", \"pass\", \"cross\"])), :])\n",
    "vals = vec(reverse(vals, dims=1)');\n",
    "\n",
    "succ_move_actions = df[in.(df[\"type_name\"], Ref([\"dribble\", \"pass\", \"cross\"])) .& (df[\"result_name\"] .== \"success\"), :]\n",
    "c_trans_matrix = get_transition_matrix(succ_move_actions);"
   ]
  },
  {
   "cell_type": "code",
   "execution_count": null,
   "metadata": {},
   "outputs": [],
   "source": [
    "cxT = expected_threat(c_score_matrix, c_shot_matrix, c_move_matrix, c_trans_matrix);"
   ]
  }
 ],
 "metadata": {
  "kernelspec": {
   "display_name": "Julia 1.5.2",
   "language": "julia",
   "name": "julia-1.5"
  },
  "language_info": {
   "file_extension": ".jl",
   "mimetype": "application/julia",
   "name": "julia",
   "version": "1.5.2"
  }
 },
 "nbformat": 4,
 "nbformat_minor": 4
}
